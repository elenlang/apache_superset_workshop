{
 "cells": [
  {
   "cell_type": "markdown",
   "metadata": {
    "ExecuteTime": {
     "end_time": "2019-05-14T09:33:20.540019Z",
     "start_time": "2019-05-14T09:33:20.531880Z"
    },
    "slideshow": {
     "slide_type": "slide"
    }
   },
   "source": [
    "# Apache Superset"
   ]
  },
  {
   "cell_type": "markdown",
   "metadata": {
    "slideshow": {
     "slide_type": "slide"
    }
   },
   "source": [
    "* What is Apache Superset?\n",
    "* Setup and Install - Local Mode\n",
    "* Demo - Creating a Dashoard\n",
    "* Using superset in your workflow\n",
    "* Setup and Install - Production ready EC2 deployment\n",
    "* Features of Superset\n",
    "    * General\n",
    "    * Cost\n",
    "    * Sources\n",
    "    * Security\n",
    "    * Sharing\n",
    "    * SQL Lab\n",
    "* Architecture of Superset"
   ]
  },
  {
   "cell_type": "markdown",
   "metadata": {
    "slideshow": {
     "slide_type": "slide"
    }
   },
   "source": [
    "## What is Apache Superset?\n",
    "\n",
    "* A enterprise data exploration and visualization web application by Airbnb\n",
    "* OpenSource alternative to Tableau, PowerBI"
   ]
  },
  {
   "cell_type": "markdown",
   "metadata": {
    "slideshow": {
     "slide_type": "slide"
    }
   },
   "source": [
    "![title](https://raw.githubusercontent.com/apache/incubator-superset/master/superset/assets/images/screenshots/bank_dash.png)"
   ]
  },
  {
   "cell_type": "markdown",
   "metadata": {
    "slideshow": {
     "slide_type": "slide"
    }
   },
   "source": [
    "## Setup and Install - Local Mode"
   ]
  },
  {
   "cell_type": "markdown",
   "metadata": {},
   "source": [
    "### Install dependencies"
   ]
  },
  {
   "cell_type": "code",
   "execution_count": null,
   "metadata": {
    "ExecuteTime": {
     "end_time": "2019-05-14T11:52:17.628139Z",
     "start_time": "2019-05-14T11:52:17.611632Z"
    },
    "slideshow": {
     "slide_type": "-"
    }
   },
   "outputs": [],
   "source": [
    "sudo apt update &&  sudo apt-get install -y build-essential libssl-dev libffi-dev python3-dev python3-pip libsasl2-dev libldap2-dev\n",
    "\n",
    "sudo pip3 install pandas==0.23.4 SQLAlchemy==1.2.2 psycopg2-binary pymssql\n",
    "\n",
    "sudo pip3 install superset"
   ]
  },
  {
   "cell_type": "markdown",
   "metadata": {},
   "source": [
    "### Setup InternalDB, load examples and permissions"
   ]
  },
  {
   "cell_type": "code",
   "execution_count": null,
   "metadata": {
    "ExecuteTime": {
     "end_time": "2019-05-14T11:52:18.590848Z",
     "start_time": "2019-05-14T11:52:18.575954Z"
    }
   },
   "outputs": [],
   "source": [
    "fabmanager create-admin --app superset\n",
    "\n",
    "superset db upgrade\n",
    "\n",
    "superset load_examples\n",
    "\n",
    "superset init"
   ]
  },
  {
   "cell_type": "markdown",
   "metadata": {},
   "source": [
    "### Start Superset"
   ]
  },
  {
   "cell_type": "code",
   "execution_count": null,
   "metadata": {
    "ExecuteTime": {
     "end_time": "2019-05-14T11:52:19.154361Z",
     "start_time": "2019-05-14T11:52:19.145819Z"
    }
   },
   "outputs": [],
   "source": [
    "superset runserver -p 8080"
   ]
  },
  {
   "cell_type": "markdown",
   "metadata": {
    "slideshow": {
     "slide_type": "slide"
    }
   },
   "source": [
    "### Demo - Creating a Dashoard"
   ]
  },
  {
   "cell_type": "markdown",
   "metadata": {
    "slideshow": {
     "slide_type": "slide"
    }
   },
   "source": [
    "### Using Superset in your Workflow\n",
    "![title](images/workflow.png)"
   ]
  },
  {
   "cell_type": "markdown",
   "metadata": {
    "slideshow": {
     "slide_type": "slide"
    }
   },
   "source": [
    "### Features of Superset\n",
    "\n",
    "* Cloud-native\n",
    "    * Lets you choose your web server (Gunicorn, Nginx, Apache)\n",
    "    * Metadata database engine (MySQL, Postgres, MariaDB)\n",
    "    * Message queue (Redis, RabbitMQ, SQS)\n",
    "    * Results backend (S3, Redis, Memcached)\n",
    "    * Caching layer (Memcached, Redis)\n",
    "* Designed scale out in large, distributed environments, and works well inside containers\n",
    "    * Local Computer\n",
    "    * EC2 - Elastic load balancer\n",
    "    * Kubernetes / Docker containers / ECS"
   ]
  },
  {
   "cell_type": "markdown",
   "metadata": {
    "slideshow": {
     "slide_type": "slide"
    }
   },
   "source": [
    "### Cost in Production\n",
    "    * No licence cost - Opensource\n",
    "    * Only cost of servers/metadatabase/data transfer cost\n",
    "    * Example : \n",
    "    \n",
    "    T3A micro EC2 + Postgres metaDB t2micro = 8 + 32 = $ 40 / month = serves 3-4 users\n",
    "    "
   ]
  },
  {
   "cell_type": "markdown",
   "metadata": {
    "slideshow": {
     "slide_type": "slide"
    }
   },
   "source": [
    "### Sources\n",
    "\n",
    "Superset uses SQLAlchemy(Python ORM) that is compatible with most common databases\n",
    "![title](images/sources.png)"
   ]
  },
  {
   "cell_type": "markdown",
   "metadata": {
    "slideshow": {
     "slide_type": "slide"
    }
   },
   "source": [
    "### Security\n",
    "* All data transferred between DB and Superset is encrypted\n",
    "* Custom login for github, twitter, linkedin, google, azure (using OAuth)\n",
    "* Fine grain control over permission for tables, charts, dashboards using roles\n",
    "    * Admin, Alpha, Executive, Sales, Analyst roles\n",
    "* Cannot share dasboard without login credentials"
   ]
  },
  {
   "cell_type": "markdown",
   "metadata": {
    "ExecuteTime": {
     "end_time": "2019-05-14T10:56:56.354798Z",
     "start_time": "2019-05-14T10:56:56.350539Z"
    },
    "slideshow": {
     "slide_type": "-"
    }
   },
   "source": [
    "### Sharing\n",
    "* Slices/Dasbhoard can be shared easily within organization\n",
    "* Cannot share slices with public easily. Requires login credentials\n",
    "* Shared dashboards reflect changes in real time"
   ]
  },
  {
   "cell_type": "markdown",
   "metadata": {
    "slideshow": {
     "slide_type": "-"
    }
   },
   "source": [
    "### SQL Lab\n",
    "* Single querying interface for all your data sources"
   ]
  },
  {
   "cell_type": "markdown",
   "metadata": {
    "slideshow": {
     "slide_type": "slide"
    }
   },
   "source": [
    "## Architecture for production grade Superset"
   ]
  },
  {
   "cell_type": "markdown",
   "metadata": {
    "slideshow": {
     "slide_type": "slide"
    }
   },
   "source": [
    "![title](images/architecture.png)"
   ]
  },
  {
   "cell_type": "markdown",
   "metadata": {
    "ExecuteTime": {
     "end_time": "2019-05-14T11:45:07.258877Z",
     "start_time": "2019-05-14T11:45:07.146157Z"
    },
    "slideshow": {
     "slide_type": "slide"
    }
   },
   "source": [
    "![title](images/query_cycle.png)"
   ]
  },
  {
   "cell_type": "markdown",
   "metadata": {
    "slideshow": {
     "slide_type": "slide"
    }
   },
   "source": [
    "## Sahil Dadia\n",
    "\n",
    "* MSc in Data Science and Analytics, Maynooth University\n",
    "* Work on Data Pipelines\n",
    "\n",
    "Email : dadiasahil94@yahoo.in\n",
    "\n",
    "GitHub : https://github.com/sdadia"
   ]
  },
  {
   "cell_type": "code",
   "execution_count": null,
   "metadata": {},
   "outputs": [],
   "source": []
  }
 ],
 "metadata": {
  "celltoolbar": "Slideshow",
  "kernelspec": {
   "display_name": "Python 3",
   "language": "python",
   "name": "python3"
  },
  "language_info": {
   "codemirror_mode": {
    "name": "ipython",
    "version": 3
   },
   "file_extension": ".py",
   "mimetype": "text/x-python",
   "name": "python",
   "nbconvert_exporter": "python",
   "pygments_lexer": "ipython3",
   "version": "3.6.7"
  }
 },
 "nbformat": 4,
 "nbformat_minor": 2
}
